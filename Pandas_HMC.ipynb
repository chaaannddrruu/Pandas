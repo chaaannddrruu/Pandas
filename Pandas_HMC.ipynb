{
 "cells": [
  {
   "cell_type": "code",
   "execution_count": 1,
   "id": "eb0c007a",
   "metadata": {},
   "outputs": [],
   "source": [
    "import pandas"
   ]
  },
  {
   "cell_type": "code",
   "execution_count": 8,
   "id": "4ba28193",
   "metadata": {},
   "outputs": [
    {
     "name": "stdout",
     "output_type": "stream",
     "text": [
      "    Team      EID                              Name       Technology  Experience\n",
      "0    T01   VN2-21                    Swapna Putluru           Python         NaN\n",
      "1    T01   VN2-22                  Uday Eswar Boddu       Python SEL         NaN\n",
      "2    T01   VN2-23         Basi Reddy Chinthalapalli       Python SEL         2.0\n",
      "3    T01   VN2-24            Vamseedhar Reddy Gudur           Python         2.0\n",
      "4    T01   VN2-25                           Navya P       Python SEL         4.0\n",
      "5    T01   VN2-26              Swetha Palagalapalli       Python SEL         2.0\n",
      "6    T01   VN2-28                  Amarnath Reddy R           Python         2.0\n",
      "7    T01   VN2-29             Rajeswari Bhimacherla           Python         4.0\n",
      "8    T01   VN2-30                 Shilpasety Muddam           Python         2.0\n",
      "9    T02   VN2-31                      Gowtham Kaza       Python SEL         2.0\n",
      "10   T02   VN2-32          Krishna Reddy Allamadugu       Python SEL         4.0\n",
      "11   T02   VN2-33                      Roja Badhuru       Python SEL         6.0\n",
      "12   T02   VN2-34          Nagamalla Reddy Krishnam       Python SEL         5.0\n",
      "13   T02   VN2-35                    Santhi Gajjala           Python         4.0\n",
      "14   T02   VN2-36                     Kavya Gummadi           Python         3.0\n",
      "15   T02   VN2-37                          Harsha G           Python         4.0\n",
      "16   T02   VN2-38  Naga Lingeswara Reddy Madi Reddy       Python SEL         5.0\n",
      "17   T02   VN2-39                    Riyaz Palagiri              NaN         3.0\n",
      "18   T02   VN2-40                   Kritika Trivedi           Python         3.0\n",
      "19   T02   VN2-41                 Jagan Mohan Reddy       Python SEL         3.0\n",
      "20   T03   VN2-43      Yashwanth Reddy Gowreddygari             JAVA         5.0\n",
      "21   T03   VN2-44          Sanju Parashuram Dhanoji       Python SEL         6.0\n",
      "22   T03   VN2-45                  Syed Salim Malik       Python SEL         6.0\n",
      "23   T03  VN2-064                         Pavitra K           Python         2.0\n",
      "24   T03  VN2-065     Surendra Kakaraparthi Venkata           Python         2.0\n",
      "25   T02  VN2-066                     Vijay Kumar S         Java SEL         2.0\n",
      "26   T02  VN2-068              Prashant Kumar Nayak             JAVA         2.0\n",
      "27   T03  VN2-069                        Sundeep R            Python         3.0\n",
      "28   T02  VN2-070               Gaurav Ashok Mishra             JAVA         4.0\n",
      "29   T03  VN2-071                       Sriharsha S           Python         5.0\n",
      "30   T03  VN2-073                Sasikala Paruchuri           Python         6.0\n",
      "31   T03  VN2-074            Mohan Narayana Anchala       Python SEL         3.0\n",
      "32   T03  VN2-076                       Sai Chandra           Python         7.0\n",
      "33   T02  VN2-077                   Saurabh Kumar B             JAVA         2.0\n",
      "34   T03  VN2-078                   Prahallad Gahir           Python         2.0\n",
      "35   T01  VN2-079                Shyama Latha Routh           Devops         3.0\n",
      "36   T03  VN2-080                   Priyanka Vemula       Python SEL         3.0\n",
      "37   T01  VN2-082                       Akhil Yarra           Devops         3.0\n",
      "38   T01  VN2-083                Sameer Malik Shaik           Devops         3.0\n",
      "39   T03  VN2-084      Mohammed Mudassir Ather Khan           Python         3.0\n",
      "40   T03  VN2-085               Shubham Dagu Kapase           Python         4.0\n",
      "41   T02  VN2-086             Mallikarjuna Nandyala         Java SEL         2.0\n",
      "42   T01  VN2-087                      Sanjul Kumar           Devops         2.0\n",
      "43   T01  VN2-088         Ajay Kumar Reddy Kotipati           Devops         3.0\n",
      "44   T01  VN2-089             Madan Kumar Gowda S L           Devops         3.0\n",
      "45   T03  VN2-090           Chaithanya Avilikonda C           Python         3.0\n",
      "46   T03  VN2-091              Adarsh Chayappa Naik           Python         3.0\n",
      "47   T01  VN2-092                       Vaishnavi S           Devops         3.0\n",
      "48   T01  VN2-094            Venugopal reddy Sagili           Devops         3.0\n",
      "49   T03  VN2-095          Preeti Vilas Mangalwedhe           Python         3.0\n",
      "50   T02  VN2-096                   Dileep Reddy BS         Java SEL         4.0\n",
      "51   T03  VN2-099                        Prathviraj  Python, Pyspark         4.0\n",
      "52   T03  VN2-100                     Prashanth P L           Python         4.0\n",
      "53   T03  VN2-101            Prabin Kumar Mahapatra           Python         3.0\n",
      "54   T03  VN2-102                  Chidasis Sethy P           Python         2.0\n",
      "55   T03  VN2-103           Pradeep Sundar Maharana           Python         3.0\n",
      "56   T03  VN2-104                   Raja Mahendiran           Python         4.0\n",
      "57   T03  VN2-105                          Kumara D           Python         4.0\n",
      "58   T03  VN2-106                      Anisha Singh           Python         2.0\n",
      "59   T03  VN2-107              Vannurvali Kothakota           Python         3.0\n",
      "60   T03  VN2-108                   Sivasankar Illa           Python         4.0\n",
      "61   T01  VN2-110                 Vivekananda Reddy           Devops         2.0\n",
      "62   T01  VN2-111                  Sreekanth Kuruva           Devops         3.0\n",
      "63   T02  VN2-114                    Jishan Alam MD             Java         3.0\n",
      "64   T02  VN2-116                Ravi Tejaa Kammiti         Java SEL         2.0\n",
      "65   T02  VN2-117                        Shilpa B V         Java SEL         2.0\n",
      "66   T02  VN2-118                     Sampritha K R         Java SEL         3.0\n",
      "67   T03  VN2-119           Manjunath Ramappa Madni           Python         3.0\n",
      "68   T03  VN2-120                     Bindu Pulluru           Python         3.0\n",
      "69   T02  VN2-121                       Chand Basha         Java SEL         3.0\n",
      "70   T01  VN2-122                       Nag Sagar S           Devops         3.0\n",
      "71   T03  VN2-123            Swathi Reddy Yerragudi           Python         2.0\n",
      "72   T04  VN2-124          Meena Anaberu Gangadhara           Python         3.0\n",
      "73   NaN  VN2-125                  Sowmya Chilumula           DevOps         3.0\n",
      "74   T0$  VN2-126                  Nagraj Halshetty           Python         3.0\n",
      "75   NaN  VN2-127                            Mamita             JAVA         3.0\n",
      "76   T04  VN2-128                  Sangan Sai Kumar           Python         3.0\n",
      "77   T04  VN2-129                        Shobha K R           Python         4.0\n",
      "78   T04  VN2-130                  Sanju Kumar Sali           Python         3.0\n",
      "79   T04  VN2-131                              Raju           Python         4.0\n",
      "80   T04  VN2-132                        Sai Dinesh           Python         2.0\n",
      "81   T03  VN2-133              Prasanna Kumar Ganga           Python         4.0\n",
      "82   T04  VN2-134      Ranga Naidu Chimbili Madhava           Python         3.0\n",
      "83   NaN  VN2-135             Keerthi Reddy Maddula           DevOps         3.0\n",
      "84   NaN  VN2-136                 Sowjanya Cheemala           DevOps         3.0\n",
      "85   T03  VN2-137                      Abhishek K M           Python         3.0\n",
      "86   T04  VN2-139                 Pinkey Kumari Nag           Python         3.0\n",
      "87   T04  VN2-139                        Sai Dinesh           Python         4.0\n",
      "88   T01   VN2-43      Yashwanth Reddy Gowreddygari             JAVA         3.0\n",
      "89   T02  VN2-066                     Vijay Kumar S         Java SEL         2.0\n",
      "90   T02  VN2-068              Prashant Kumar Nayak             JAVA         3.0\n",
      "91   T02  VN2-070               Gaurav Ashok Mishra             JAVA         4.0\n",
      "92   T02  VN2-077                   Saurabh Kumar B             JAVA         3.0\n",
      "93   T02  VN2-086             Mallikarjuna Nandyala         Java SEL         4.0\n",
      "94   T02  VN2-096                   Dileep Reddy BS         Java SEL         2.0\n",
      "95   T02  VN2-114                    Jishan Alam MD             Java         3.0\n",
      "96   T02  VN2-116                Ravi Tejaa Kammiti         Java SEL         5.0\n",
      "97   T02  VN2-117                        Shilpa B V         Java SEL         3.0\n",
      "98   T02  VN2-118                     Sampritha K R         Java SEL         2.0\n",
      "99   T02  VN2-121                       Chand Basha         Java SEL         2.0\n",
      "100  T01  VN2-079                Shyama Latha Routh           Devops         2.0\n",
      "101  T01  VN2-082                       Akhil Yarra           Devops         3.0\n",
      "102  T01  VN2-083                Sameer Malik Shaik           Devops         5.0\n",
      "103  T01  VN2-087                      Sanjul Kumar           Devops         3.0\n",
      "104  T01  VN2-088         Ajay Kumar Reddy Kotipati           Devops         2.0\n",
      "105  T01  VN2-089             Madan Kumar Gowda S L           Devops         3.0\n",
      "106  T01  VN2-092                       Vaishnavi S           Devops         4.0\n",
      "107  T01  VN2-094            Venugopal reddy Sagili           Devops         3.0\n",
      "108  T01  VN2-110                 Vivekananda Reddy           Devops         3.0\n",
      "109  T01  VN2-111                  Sreekanth Kuruva           Devops         3.0\n",
      "110  T01  VN2-122                       Nag Sagar S           Devops         3.0\n",
      "111  T01  VN2-125                  Sowmya Chilumula           DevOps         2.0\n",
      "112  T01  VN2-135             Keerthi Reddy Maddula           DevOps         3.0\n",
      "113  T01  VN2-136                 Sowjanya Cheemala           DevOps         3.0\n"
     ]
    }
   ],
   "source": [
    "import pandas as pd\n",
    "\n",
    "# reading the the data from the csv\n",
    "\n",
    "df =pd.read_csv (r'D:\\Data Science-Browsejobs\\Pandas\\data.csv')\n",
    "print(df.to_string())"
   ]
  },
  {
   "cell_type": "code",
   "execution_count": 11,
   "id": "ce9ec1bb",
   "metadata": {},
   "outputs": [
    {
     "name": "stdout",
     "output_type": "stream",
     "text": [
      "    Duration          Date  Pulse  Maxpulse  Calories\n",
      "0         60  '2020/12/01'    110       130     409.1\n",
      "1         60  '2020/12/02'    117       145     479.0\n",
      "2         60  '2020/12/03'    103       135     340.0\n",
      "3         45  '2020/12/04'    109       175     282.4\n",
      "4         45  '2020/12/05'    117       148     406.0\n",
      "5         60  '2020/12/06'    102       127     300.0\n",
      "6         60  '2020/12/07'    110       136     374.0\n",
      "7        450  '2020/12/08'    104       134     253.3\n",
      "8         30  '2020/12/09'    109       133     195.1\n",
      "9         60  '2020/12/10'     98       124     269.0\n",
      "10        60  '2020/12/11'    103       147     329.3\n",
      "11        60  '2020/12/12'    100       120     250.7\n",
      "12        60  '2020/12/12'    100       120     250.7\n",
      "13        60  '2020/12/13'    106       128     345.3\n",
      "14        60  '2020/12/14'    104       132     379.3\n",
      "15        60  '2020/12/15'     98       123     275.0\n",
      "16        60  '2020/12/16'     98       120     215.2\n",
      "17        60  '2020/12/17'    100       120     300.0\n",
      "18        45  '2020/12/18'     90       112       NaN\n",
      "19        60  '2020/12/19'    103       123     323.0\n",
      "20        45  '2020/12/20'     97       125     243.0\n",
      "21        60  '2020/12/21'    108       131     364.2\n",
      "22        45           NaN    100       119     282.0\n",
      "23        60  '2020/12/23'    130       101     300.0\n",
      "24        45  '2020/12/24'    105       132     246.0\n",
      "25        60  '2020/12/25'    102       126     334.5\n",
      "26        60      20201226    100       120     250.0\n",
      "27        60  '2020/12/27'     92       118     241.0\n",
      "28        60  '2020/12/28'    103       132       NaN\n",
      "29        60  '2020/12/29'    100       132     280.0\n",
      "30        60  '2020/12/30'    102       129     380.3\n",
      "31        60  '2020/12/31'     92       115     243.0\n"
     ]
    }
   ],
   "source": [
    "import pandas as pd\n",
    "\n",
    "# reading the the data from the csv\n",
    "\n",
    "df = pd.read_csv(r'D:\\Data Science-Browsejobs\\Pandas\\dirtydata.csv')\n",
    "\n",
    "print(df.to_string())"
   ]
  },
  {
   "cell_type": "code",
   "execution_count": 13,
   "id": "246981ad",
   "metadata": {},
   "outputs": [
    {
     "name": "stdout",
     "output_type": "stream",
     "text": [
      "    Duration          Date  Pulse  Maxpulse  Calories\n",
      "0         60  '2020/12/01'    110       130     409.1\n",
      "1         60  '2020/12/02'    117       145     479.0\n",
      "2         60  '2020/12/03'    103       135     340.0\n",
      "3         45  '2020/12/04'    109       175     282.4\n",
      "4         45  '2020/12/05'    117       148     406.0\n",
      "5         60  '2020/12/06'    102       127     300.0\n",
      "6         60  '2020/12/07'    110       136     374.0\n",
      "7        450  '2020/12/08'    104       134     253.3\n",
      "8         30  '2020/12/09'    109       133     195.1\n",
      "9         60  '2020/12/10'     98       124     269.0\n",
      "10        60  '2020/12/11'    103       147     329.3\n",
      "11        60  '2020/12/12'    100       120     250.7\n",
      "12        60  '2020/12/12'    100       120     250.7\n",
      "13        60  '2020/12/13'    106       128     345.3\n",
      "14        60  '2020/12/14'    104       132     379.3\n",
      "15        60  '2020/12/15'     98       123     275.0\n",
      "16        60  '2020/12/16'     98       120     215.2\n",
      "17        60  '2020/12/17'    100       120     300.0\n",
      "19        60  '2020/12/19'    103       123     323.0\n",
      "20        45  '2020/12/20'     97       125     243.0\n",
      "21        60  '2020/12/21'    108       131     364.2\n",
      "23        60  '2020/12/23'    130       101     300.0\n",
      "24        45  '2020/12/24'    105       132     246.0\n",
      "25        60  '2020/12/25'    102       126     334.5\n",
      "26        60      20201226    100       120     250.0\n",
      "27        60  '2020/12/27'     92       118     241.0\n",
      "29        60  '2020/12/29'    100       132     280.0\n",
      "30        60  '2020/12/30'    102       129     380.3\n",
      "31        60  '2020/12/31'     92       115     243.0\n"
     ]
    }
   ],
   "source": [
    "import pandas as pd\n",
    "\n",
    "# reading the the data from the csv\n",
    "\n",
    "df = pd.read_csv(r'D:\\Data Science-Browsejobs\\Pandas\\dirtydata.csv')\n",
    "\n",
    "# Dropping the NaN values\n",
    "\n",
    "df.dropna(inplace = True)\n",
    "print(df.to_string())"
   ]
  },
  {
   "cell_type": "code",
   "execution_count": 15,
   "id": "b5e8f3d9",
   "metadata": {},
   "outputs": [
    {
     "name": "stdout",
     "output_type": "stream",
     "text": [
      "    Duration          Date  Pulse  Maxpulse  Calories\n",
      "0         60  '2020/12/01'    110       130     409.1\n",
      "1         60  '2020/12/02'    117       145     479.0\n",
      "2         60  '2020/12/03'    103       135     340.0\n",
      "3         45  '2020/12/04'    109       175     282.4\n",
      "4         45  '2020/12/05'    117       148     406.0\n",
      "5         60  '2020/12/06'    102       127     300.0\n",
      "6         60  '2020/12/07'    110       136     374.0\n",
      "7        450  '2020/12/08'    104       134     253.3\n",
      "8         30  '2020/12/09'    109       133     195.1\n",
      "9         60  '2020/12/10'     98       124     269.0\n",
      "10        60  '2020/12/11'    103       147     329.3\n",
      "11        60  '2020/12/12'    100       120     250.7\n",
      "12        60  '2020/12/12'    100       120     250.7\n",
      "13        60  '2020/12/13'    106       128     345.3\n",
      "14        60  '2020/12/14'    104       132     379.3\n",
      "15        60  '2020/12/15'     98       123     275.0\n",
      "16        60  '2020/12/16'     98       120     215.2\n",
      "17        60  '2020/12/17'    100       120     300.0\n",
      "18        45  '2020/12/18'     90       112     130.0\n",
      "19        60  '2020/12/19'    103       123     323.0\n",
      "20        45  '2020/12/20'     97       125     243.0\n",
      "21        60  '2020/12/21'    108       131     364.2\n",
      "22        45           130    100       119     282.0\n",
      "23        60  '2020/12/23'    130       101     300.0\n",
      "24        45  '2020/12/24'    105       132     246.0\n",
      "25        60  '2020/12/25'    102       126     334.5\n",
      "26        60      20201226    100       120     250.0\n",
      "27        60  '2020/12/27'     92       118     241.0\n",
      "28        60  '2020/12/28'    103       132     130.0\n",
      "29        60  '2020/12/29'    100       132     280.0\n",
      "30        60  '2020/12/30'    102       129     380.3\n",
      "31        60  '2020/12/31'     92       115     243.0\n"
     ]
    }
   ],
   "source": [
    "import pandas as pd\n",
    "\n",
    "#replace na with some value\n",
    "\n",
    "df = pd.read_csv(r'D:\\Data Science-Browsejobs\\Pandas\\dirtydata.csv')\n",
    "df.fillna(130, inplace = True)\n",
    "print(df)"
   ]
  },
  {
   "cell_type": "code",
   "execution_count": 24,
   "id": "fe6c5375",
   "metadata": {},
   "outputs": [
    {
     "name": "stdout",
     "output_type": "stream",
     "text": [
      "    Duration          Date  Pulse  Maxpulse  Calories\n",
      "0         60  '2020/12/01'    110       130    409.10\n",
      "1         60  '2020/12/02'    117       145    479.00\n",
      "2         60  '2020/12/03'    103       135    340.00\n",
      "3         45  '2020/12/04'    109       175    282.40\n",
      "4         45  '2020/12/05'    117       148    406.00\n",
      "5         60  '2020/12/06'    102       127    300.00\n",
      "6         60  '2020/12/07'    110       136    374.00\n",
      "7        450  '2020/12/08'    104       134    253.30\n",
      "8         30  '2020/12/09'    109       133    195.10\n",
      "9         60  '2020/12/10'     98       124    269.00\n",
      "10        60  '2020/12/11'    103       147    329.30\n",
      "11        60  '2020/12/12'    100       120    250.70\n",
      "12        60  '2020/12/12'    100       120    250.70\n",
      "13        60  '2020/12/13'    106       128    345.30\n",
      "14        60  '2020/12/14'    104       132    379.30\n",
      "15        60  '2020/12/15'     98       123    275.00\n",
      "16        60  '2020/12/16'     98       120    215.20\n",
      "17        60  '2020/12/17'    100       120    300.00\n",
      "18        45  '2020/12/18'     90       112    304.68\n",
      "19        60  '2020/12/19'    103       123    323.00\n",
      "20        45  '2020/12/20'     97       125    243.00\n",
      "21        60  '2020/12/21'    108       131    364.20\n",
      "22        45           NaN    100       119    282.00\n",
      "23        60  '2020/12/23'    130       101    300.00\n",
      "24        45  '2020/12/24'    105       132    246.00\n",
      "25        60  '2020/12/25'    102       126    334.50\n",
      "26        60      20201226    100       120    250.00\n",
      "27        60  '2020/12/27'     92       118    241.00\n",
      "28        60  '2020/12/28'    103       132    304.68\n",
      "29        60  '2020/12/29'    100       132    280.00\n",
      "30        60  '2020/12/30'    102       129    380.30\n",
      "31        60  '2020/12/31'     92       115    243.00\n"
     ]
    }
   ],
   "source": [
    "# finding the mean value and replacing the nan with the mean value in calories column\n",
    "\n",
    "import pandas as pd\n",
    "\n",
    "df = pd.read_csv(r'D:\\Data Science-Browsejobs\\Pandas\\dirtydata.csv')\n",
    "x = df['Calories'].mean()\n",
    "df['Calories'].fillna(x,inplace = True)\n",
    "print(df.to_string())\n"
   ]
  },
  {
   "cell_type": "code",
   "execution_count": 2,
   "id": "603bb4e3",
   "metadata": {},
   "outputs": [
    {
     "name": "stdout",
     "output_type": "stream",
     "text": [
      "    Duration       Date  Pulse  Maxpulse  Calories\n",
      "0         60 2020-12-01    110       130    409.10\n",
      "1         60 2020-12-02    117       145    479.00\n",
      "2         60 2020-12-03    103       135    340.00\n",
      "3         45 2020-12-04    109       175    282.40\n",
      "4         45 2020-12-05    117       148    406.00\n",
      "5         60 2020-12-06    102       127    300.00\n",
      "6         60 2020-12-07    110       136    374.00\n",
      "7         45 2020-12-08    104       134    253.30\n",
      "8         30 2020-12-09    109       133    195.10\n",
      "9         60 2020-12-10     98       124    269.00\n",
      "10        60 2020-12-11    103       147    329.30\n",
      "11        60 2020-12-12    100       120    250.70\n",
      "12        60 2020-12-12    100       120    250.70\n",
      "13        60 2020-12-13    106       128    345.30\n",
      "14        60 2020-12-14    104       132    379.30\n",
      "15        60 2020-12-15     98       123    275.00\n",
      "16        60 2020-12-16     98       120    215.20\n",
      "17        60 2020-12-17    100       120    300.00\n",
      "18        45 2020-12-18     90       112    304.68\n",
      "19        60 2020-12-19    103       123    323.00\n",
      "20        45 2020-12-20     97       125    243.00\n",
      "21        60 2020-12-21    108       131    364.20\n",
      "22        45        NaT    100       119    282.00\n",
      "23        60 2020-12-23    130       101    300.00\n",
      "24        45 2020-12-24    105       132    246.00\n",
      "25        60 2020-12-25    102       126    334.50\n",
      "26        60 2020-12-26    100       120    250.00\n",
      "27        60 2020-12-27     92       118    241.00\n",
      "28        60 2020-12-28    103       132    304.68\n",
      "29        60 2020-12-29    100       132    280.00\n",
      "30        60 2020-12-30    102       129    380.30\n",
      "31        60 2020-12-31     92       115    243.00\n"
     ]
    }
   ],
   "source": [
    "# Changing the date format and filling the nan in the same column\n",
    "\n",
    "import pandas as pd\n",
    "\n",
    "df = pd.read_csv(r'D:\\Data Science-Browsejobs\\Pandas\\dirtydata.csv')\n",
    "\n",
    "x = df['Calories'].mean()\n",
    "df['Calories'].fillna(x, inplace = True)\n",
    "y = df['Date'].mode()\n",
    "df['Date'].fillna(y, inplace = True)\n",
    "df['Date'] = pd.to_datetime(df['Date'])\n",
    "#df.dropna(subset = ['Date'],inplace = True)\n",
    "#z = df['Duration'].mode()\n",
    "#df['Duration'].fillna(z, inplace = True)\n",
    "df.loc[7, 'Duration'] = 45\n",
    "print(df.to_string())\n"
   ]
  },
  {
   "cell_type": "code",
   "execution_count": 1,
   "id": "8633907c",
   "metadata": {},
   "outputs": [
    {
     "ename": "ModuleNotFoundError",
     "evalue": "No module named 'matpolt'",
     "output_type": "error",
     "traceback": [
      "\u001b[1;31m---------------------------------------------------------------------------\u001b[0m",
      "\u001b[1;31mModuleNotFoundError\u001b[0m                       Traceback (most recent call last)",
      "\u001b[1;32m~\\AppData\\Local\\Temp/ipykernel_7308/1676703775.py\u001b[0m in \u001b[0;36m<module>\u001b[1;34m\u001b[0m\n\u001b[1;32m----> 1\u001b[1;33m \u001b[1;32mimport\u001b[0m \u001b[0mmatpolt\u001b[0m\u001b[1;33m\u001b[0m\u001b[1;33m\u001b[0m\u001b[0m\n\u001b[0m",
      "\u001b[1;31mModuleNotFoundError\u001b[0m: No module named 'matpolt'"
     ]
    }
   ],
   "source": [
    "import matpolt"
   ]
  },
  {
   "cell_type": "code",
   "execution_count": 2,
   "id": "9233d4ba",
   "metadata": {},
   "outputs": [],
   "source": [
    "import matplotlib"
   ]
  },
  {
   "cell_type": "code",
   "execution_count": 3,
   "id": "441f3c9d",
   "metadata": {},
   "outputs": [
    {
     "data": {
      "image/png": "[encoded data removed]",
      "text/plain": [
       "<Figure size 432x288 with 1 Axes>"
      ]
     },
     "metadata": {
      "needs_background": "light"
     },
     "output_type": "display_data"
    }
   ],
   "source": [
    "import matplotlib.pyplot as plt\n",
    "import numpy as np\n",
    "\n",
    "xpoints = np.array([0, 6])\n",
    "ypoints = np.array([0, 250])\n",
    "\n",
    "plt.plot(xpoints, ypoints)\n",
    "plt.show()"
   ]
  },
  {
   "cell_type": "code",
   "execution_count": 5,
   "id": "024ca93c",
   "metadata": {},
   "outputs": [
    {
     "ename": "AttributeError",
     "evalue": "module 'matplotlib.pyplot' has no attribute 'points'",
     "output_type": "error",
     "traceback": [
      "\u001b[1;31m---------------------------------------------------------------------------\u001b[0m",
      "\u001b[1;31mAttributeError\u001b[0m                            Traceback (most recent call last)",
      "\u001b[1;32m~\\AppData\\Local\\Temp/ipykernel_7308/2003897579.py\u001b[0m in \u001b[0;36m<module>\u001b[1;34m\u001b[0m\n\u001b[0;32m      7\u001b[0m \u001b[0mxpoints\u001b[0m \u001b[1;33m=\u001b[0m \u001b[0mnp\u001b[0m\u001b[1;33m.\u001b[0m\u001b[0marray\u001b[0m\u001b[1;33m(\u001b[0m\u001b[1;33m[\u001b[0m\u001b[1;34m\"Duration\"\u001b[0m\u001b[1;33m]\u001b[0m\u001b[1;33m)\u001b[0m\u001b[1;33m\u001b[0m\u001b[1;33m\u001b[0m\u001b[0m\n\u001b[0;32m      8\u001b[0m \u001b[0mypoints\u001b[0m \u001b[1;33m=\u001b[0m \u001b[0mnp\u001b[0m\u001b[1;33m.\u001b[0m\u001b[0marray\u001b[0m\u001b[1;33m(\u001b[0m\u001b[1;33m[\u001b[0m\u001b[1;34m\"Calories\"\u001b[0m\u001b[1;33m]\u001b[0m\u001b[1;33m)\u001b[0m\u001b[1;33m\u001b[0m\u001b[1;33m\u001b[0m\u001b[0m\n\u001b[1;32m----> 9\u001b[1;33m \u001b[0mplt\u001b[0m\u001b[1;33m.\u001b[0m\u001b[0mpoints\u001b[0m\u001b[1;33m(\u001b[0m\u001b[0mxpoints\u001b[0m\u001b[1;33m,\u001b[0m \u001b[0mypoints\u001b[0m\u001b[1;33m)\u001b[0m\u001b[1;33m\u001b[0m\u001b[1;33m\u001b[0m\u001b[0m\n\u001b[0m\u001b[0;32m     10\u001b[0m \u001b[0mplt\u001b[0m\u001b[1;33m.\u001b[0m\u001b[0mshow\u001b[0m\u001b[1;33m\u001b[0m\u001b[1;33m\u001b[0m\u001b[0m\n",
      "\u001b[1;31mAttributeError\u001b[0m: module 'matplotlib.pyplot' has no attribute 'points'"
     ]
    }
   ],
   "source": [
    "import pandas as pd\n",
    "import matplotlib.pyplot as plt\n",
    "import numpy as np\n",
    "\n",
    "df = pd.read_csv(r'D:\\Data Science-Browsejobs\\Pandas\\dirtydata.csv')\n",
    "\n",
    "xpoints = np.array([\"Duration\"])\n",
    "ypoints = np.array([\"Calories\"])\n",
    "plt.points(xpoints, ypoints)\n",
    "plt.show"
   ]
  },
  {
   "cell_type": "code",
   "execution_count": null,
   "id": "0c024527",
   "metadata": {},
   "outputs": [],
   "source": []
  }
 ],
 "metadata": {
  "kernelspec": {
   "display_name": "Python 3 (ipykernel)",
   "language": "python",
   "name": "python3"
  },
  "language_info": {
   "codemirror_mode": {
    "name": "ipython",
    "version": 3
   },
   "file_extension": ".py",
   "mimetype": "text/x-python",
   "name": "python",
   "nbconvert_exporter": "python",
   "pygments_lexer": "ipython3",
   "version": "3.9.7"
  }
 },
 "nbformat": 4,
 "nbformat_minor": 5
}
